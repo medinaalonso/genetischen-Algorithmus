{
  "nbformat": 4,
  "nbformat_minor": 0,
  "metadata": {
    "colab": {
      "name": "Algoritmo Genetico.ipynb",
      "provenance": []
    },
    "kernelspec": {
      "name": "python3",
      "display_name": "Python 3"
    }
  },
  "cells": [
    {
      "cell_type": "markdown",
      "metadata": {
        "id": "9Qi9uIimdZlI",
        "colab_type": "text"
      },
      "source": [
        "Individuo"
      ]
    },
    {
      "cell_type": "code",
      "metadata": {
        "id": "xNTLbIs2dmLO",
        "colab_type": "code",
        "colab": {}
      },
      "source": [
        "import random"
      ],
      "execution_count": 1,
      "outputs": []
    },
    {
      "cell_type": "code",
      "metadata": {
        "id": "iUUuVnt5dU2-",
        "colab_type": "code",
        "colab": {}
      },
      "source": [
        "def individual(min, max):\n",
        "    \"\"\"\n",
        "        Crea un individual\n",
        "    \"\"\"\n",
        "    return[random.randint(min, max) for i in range(largo)]\n",
        "  "
      ],
      "execution_count": 2,
      "outputs": []
    },
    {
      "cell_type": "markdown",
      "metadata": {
        "id": "LxZBDvxZdeV0",
        "colab_type": "text"
      },
      "source": [
        "Poblacióm"
      ]
    },
    {
      "cell_type": "code",
      "metadata": {
        "id": "gEy4m_NtdhFm",
        "colab_type": "code",
        "colab": {}
      },
      "source": [
        "def crearPoblacion():\n",
        "    \"\"\"\n",
        "        Crea una poblacion nueva de individuos\n",
        "    \"\"\"\n",
        "    return [individual(1,9) for i in range(num)]"
      ],
      "execution_count": 3,
      "outputs": []
    },
    {
      "cell_type": "markdown",
      "metadata": {
        "id": "gY3RHTexdrQM",
        "colab_type": "text"
      },
      "source": [
        "Fitness"
      ]
    },
    {
      "cell_type": "code",
      "metadata": {
        "id": "Ix7C042udrXl",
        "colab_type": "code",
        "colab": {}
      },
      "source": [
        "  \n",
        "def calcularFitness(individual):\n",
        "    \"\"\"\n",
        "        Calcula el fitness de un individuo concreto.\n",
        "    \"\"\"\n",
        "    fitness = 0\n",
        "    for i in range(len(individual)):\n",
        "        if individual[i] == modelo[i]:\n",
        "            fitness += 1\n",
        "  \n",
        "    return fitness"
      ],
      "execution_count": 4,
      "outputs": []
    },
    {
      "cell_type": "markdown",
      "metadata": {
        "id": "6erg6kcJdvzf",
        "colab_type": "text"
      },
      "source": [
        "Seleccion y repoduccion"
      ]
    },
    {
      "cell_type": "code",
      "metadata": {
        "id": "TMSRLbvBdvTU",
        "colab_type": "code",
        "colab": {}
      },
      "source": [
        "  \n",
        "def selection_and_reproduction(population):\n",
        "    \"\"\"\n",
        "        Puntua todos los elementos de la poblacion (population) y se queda con los mejores\n",
        "        guardandolos dentro de 'selected'.\n",
        "        Despues mezcla el material genetico de los elegidos para crear nuevos individuos y\n",
        "        llenar la poblacion (guardando tambien una copia de los individuos seleccionados sin\n",
        "        modificar).\n",
        "  \n",
        "        Por ultimo muta a los individuos.\n",
        "  \n",
        "    \"\"\"\n",
        "    puntuados = [ (calcularFitness(i), i) for i in population] #Calcula el fitness de cada individuo, y lo guarda en pares ordenados de la forma (5 , [1,2,1,1,4,1,8,9,4,1])\n",
        "    puntuados = [i[1] for i in sorted(puntuados)] #Ordena los pares ordenados y se queda solo con el array de valores\n",
        "    population = puntuados\n",
        "  \n",
        "  \n",
        "  \n",
        "    selected =  puntuados[(len(puntuados)-pressure):] #Esta linea selecciona los 'n' individuos del final, donde n viene dado por 'pressure'\n",
        "  \n",
        "  \n",
        "  \n",
        "    #Se mezcla el material genetico para crear nuevos individuos\n",
        "    for i in range(len(population)-pressure):\n",
        "        punto = random.randint(1,largo-1) #Se elige un punto para hacer el intercambio\n",
        "        padre = random.sample(selected, 2) #Se eligen dos padres\n",
        "          \n",
        "        population[i][:punto] = padre[0][:punto] #Se mezcla el material genetico de los padres en cada nuevo individuo\n",
        "        population[i][punto:] = padre[1][punto:]\n",
        "  \n",
        "    return population #El array 'population' tiene ahora una nueva poblacion de individuos, que se devuelven"
      ],
      "execution_count": 5,
      "outputs": []
    },
    {
      "cell_type": "markdown",
      "metadata": {
        "id": "4DHeq031d2Gk",
        "colab_type": "text"
      },
      "source": [
        "Mutación"
      ]
    },
    {
      "cell_type": "code",
      "metadata": {
        "id": "6eBxKNgxd2OM",
        "colab_type": "code",
        "colab": {}
      },
      "source": [
        "def mutation(population):\n",
        "    \"\"\"\n",
        "        Se mutan los individuos al azar. Sin la mutacion de nuevos genes nunca podria\n",
        "        alcanzarse la solucion.\n",
        "    \"\"\"\n",
        "    for i in range(len(population)-pressure):\n",
        "        if random.random() <= mutation_chance: #Cada individuo de la poblacion (menos los padres) tienen una probabilidad de mutar\n",
        "            punto = random.randint(0,largo-1) #Se elgie un punto al azar\n",
        "            nuevo_valor = random.randint(1,9) #y un nuevo valor para este punto\n",
        "  \n",
        "            #Es importante mirar que el nuevo valor no sea igual al viejo\n",
        "            while nuevo_valor == population[i][punto]:\n",
        "                nuevo_valor = random.randint(1,9)\n",
        "  \n",
        "            #Se aplica la mutacion\n",
        "            population[i][punto] = nuevo_valor\n",
        "  \n",
        "    return population"
      ],
      "execution_count": 6,
      "outputs": []
    },
    {
      "cell_type": "code",
      "metadata": {
        "id": "TqNn_n9hy58V",
        "colab_type": "code",
        "colab": {
          "base_uri": "https://localhost:8080/",
          "height": 232
        },
        "outputId": "01521d5d-877f-4df7-8a65-8e0316c49b81"
      },
      "source": [
        "\n",
        "  \n",
        "modelo = [1,1,1,1,1,1,1,1,1,1] #Objetivo a alcanzar\n",
        "largo = 10 #La longitud del material genetico de cada individuo\n",
        "num = 10 #La cantidad de individuos que habra en la poblacion\n",
        "pressure = 3 #Cuantos individuos se seleccionan para reproduccion. Necesariamente mayor que 2\n",
        "mutation_chance = 0.2 #La probabilidad de que un individuo mute\n",
        "  \n",
        "print(\"\\n\\nModelo: %s\\n\"%(modelo)) #Mostrar el modelo, con un poco de espaciado\n",
        "  \n",
        "population = crearPoblacion()#Inicializar una poblacion\n",
        "print(\"Poblacion Inicial:\\n%s\"%(population)) #Se muestra la poblacion inicial\n",
        "  \n",
        "  \n",
        "#Se evoluciona la poblacion\n",
        "for i in range(100):\n",
        "    population = selection_and_reproduction(population)\n",
        "    population = mutation(population)\n",
        "  \n",
        "  \n",
        "print(\"\\nPoblacion Final:\\n%s\"%(population)) #Se muestra la poblacion evolucionada\n",
        "print(\"\\n\\n\")"
      ],
      "execution_count": 7,
      "outputs": [
        {
          "output_type": "stream",
          "text": [
            "\n",
            "\n",
            "Modelo: [1, 1, 1, 1, 1, 1, 1, 1, 1, 1]\n",
            "\n",
            "Poblacion Inicial:\n",
            "[[2, 6, 8, 2, 2, 8, 2, 2, 2, 9], [1, 2, 3, 3, 6, 8, 2, 2, 1, 2], [6, 3, 4, 7, 4, 3, 3, 6, 9, 6], [8, 6, 8, 6, 4, 1, 9, 6, 9, 8], [5, 9, 4, 4, 3, 5, 7, 1, 5, 9], [3, 8, 5, 2, 5, 5, 1, 2, 7, 7], [1, 8, 6, 5, 1, 5, 1, 7, 4, 1], [5, 9, 1, 9, 4, 2, 4, 1, 6, 6], [8, 6, 6, 1, 2, 9, 8, 5, 9, 4], [9, 7, 1, 7, 8, 3, 1, 8, 1, 7]]\n",
            "\n",
            "Poblacion Final:\n",
            "[[1, 4, 1, 1, 1, 1, 1, 1, 1, 1], [1, 8, 1, 1, 1, 1, 1, 1, 1, 1], [1, 8, 1, 1, 1, 1, 1, 1, 1, 1], [1, 8, 1, 1, 1, 1, 1, 1, 1, 1], [5, 8, 1, 1, 1, 1, 1, 1, 1, 1], [1, 8, 1, 1, 1, 1, 1, 1, 1, 1], [1, 8, 1, 1, 1, 1, 1, 1, 1, 1], [1, 8, 1, 1, 1, 1, 1, 1, 1, 1], [1, 8, 1, 1, 1, 1, 1, 1, 1, 1], [1, 8, 1, 1, 1, 1, 1, 1, 1, 1]]\n",
            "\n",
            "\n",
            "\n"
          ],
          "name": "stdout"
        }
      ]
    }
  ]
}