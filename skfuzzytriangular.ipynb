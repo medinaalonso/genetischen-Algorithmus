{
  "nbformat": 4,
  "nbformat_minor": 0,
  "metadata": {
    "colab": {
      "name": "skfuzzytriangular.ipynb",
      "provenance": [],
      "collapsed_sections": [],
      "authorship_tag": "ABX9TyPkbKiwDlaDl2WCPoJj9Hph",
      "include_colab_link": true
    },
    "kernelspec": {
      "name": "python3",
      "display_name": "Python 3"
    }
  },
  "cells": [
    {
      "cell_type": "markdown",
      "metadata": {
        "id": "view-in-github",
        "colab_type": "text"
      },
      "source": [
        "<a href=\"https://colab.research.google.com/github/medinaalonso/genetischen-Algorithmus/blob/master/skfuzzytriangular.ipynb\" target=\"_parent\"><img src=\"https://colab.research.google.com/assets/colab-badge.svg\" alt=\"Open In Colab\"/></a>"
      ]
    },
    {
      "cell_type": "code",
      "metadata": {
        "id": "MsvHNfHEDwna",
        "colab_type": "code",
        "colab": {
          "base_uri": "https://localhost:8080/",
          "height": 129
        },
        "outputId": "ef8f6083-821f-43ca-b13f-fa79c61bf5d1"
      },
      "source": [
        "!pip install scikit-fuzzy "
      ],
      "execution_count": null,
      "outputs": [
        {
          "output_type": "stream",
          "text": [
            "Requirement already satisfied: scikit-fuzzy in /usr/local/lib/python3.6/dist-packages (0.4.2)\n",
            "Requirement already satisfied: scipy>=0.9.0 in /usr/local/lib/python3.6/dist-packages (from scikit-fuzzy) (1.4.1)\n",
            "Requirement already satisfied: networkx>=1.9.0 in /usr/local/lib/python3.6/dist-packages (from scikit-fuzzy) (2.4)\n",
            "Requirement already satisfied: numpy>=1.6.0 in /usr/local/lib/python3.6/dist-packages (from scikit-fuzzy) (1.17.5)\n",
            "Requirement already satisfied: decorator>=4.3.0 in /usr/local/lib/python3.6/dist-packages (from networkx>=1.9.0->scikit-fuzzy) (4.4.1)\n"
          ],
          "name": "stdout"
        }
      ]
    },
    {
      "cell_type": "code",
      "metadata": {
        "id": "t6cxnCI8-knZ",
        "colab_type": "code",
        "colab": {}
      },
      "source": [
        "import matplotlib.pyplot as plt\n",
        "%matplotlib inline\n",
        "import numpy as np\n",
        "import skfuzzy as fuzz\n"
      ],
      "execution_count": null,
      "outputs": []
    },
    {
      "cell_type": "code",
      "metadata": {
        "id": "5jrhz8EfBer8",
        "colab_type": "code",
        "colab": {}
      },
      "source": [
        "paso=0.01\n",
        "x = np.arange(-3,7,paso)\n",
        "F = x**2 -3"
      ],
      "execution_count": null,
      "outputs": []
    },
    {
      "cell_type": "code",
      "metadata": {
        "id": "sILiFRjtC9Fy",
        "colab_type": "code",
        "colab": {
          "base_uri": "https://localhost:8080/",
          "height": 326
        },
        "outputId": "df605b9b-924d-45b7-eaf9-d712923237a5"
      },
      "source": [
        "#fig, (axes, axes2) = plt.subplots(nrows=2, figsize=(8, 9))\n",
        "fig=plt.figure()\n",
        "axes=fig.add_axes([0.1,0.1,0.8,0.8])\n",
        "axes.set_xlabel(\"e\")\n",
        "axes.set_ylabel(\"F(e))\")\n",
        "axes.set_title(\"y(x)=x**2-3\")\n",
        "axes.grid()\n",
        "axes.plot(x,F)"
      ],
      "execution_count": null,
      "outputs": [
        {
          "output_type": "execute_result",
          "data": {
            "text/plain": [
              "[<matplotlib.lines.Line2D at 0x7ff9b15e8978>]"
            ]
          },
          "metadata": {
            "tags": []
          },
          "execution_count": 89
        },
        {
          "output_type": "display_data",
          "data": {
            "image/png": "[encoded data removed]",
            "text/plain": [
              "<Figure size 432x288 with 1 Axes>"
            ]
          },
          "metadata": {
            "tags": []
          }
        }
      ]
    },
    {
      "cell_type": "markdown",
      "metadata": {
        "id": "GCJkSZd5Dg1_",
        "colab_type": "text"
      },
      "source": [
        "**Principio** **de** **extención**\n",
        "\n",
        "\n",
        "\n",
        "\n",
        "\n",
        "\n"
      ]
    },
    {
      "cell_type": "code",
      "metadata": {
        "id": "GB2FSnXaHyHW",
        "colab_type": "code",
        "colab": {
          "base_uri": "https://localhost:8080/",
          "height": 35
        },
        "outputId": "a88cff77-9137-4286-c0c8-c657ca32ab9b"
      },
      "source": [
        "A = fuzz.trimf(x, [1, 2, 3])\n",
        "y=np.arange(-3,997)\n",
        "y.shape"
      ],
      "execution_count": null,
      "outputs": [
        {
          "output_type": "execute_result",
          "data": {
            "text/plain": [
              "(1000,)"
            ]
          },
          "metadata": {
            "tags": []
          },
          "execution_count": 90
        }
      ]
    },
    {
      "cell_type": "code",
      "metadata": {
        "id": "JNinMUUqBaDu",
        "colab_type": "code",
        "colab": {
          "base_uri": "https://localhost:8080/",
          "height": 310
        },
        "outputId": "093b42f9-a716-43d6-8dc4-98c7a1a72b7e"
      },
      "source": [
        "fig2=plt.figure()\n",
        "axes2=fig2.add_axes([0.1,0.1,0.8,0.8])\n",
        "axes2.set_xlabel(\"e\")\n",
        "axes2.set_ylabel(\"mu(A(e))\")\n",
        "axes2.grid()\n",
        "axes2.plot(y,A)\n",
        "\n",
        "#axes.legend()\n",
        "#axes2.legend()\n",
        "#plt.tight_layout()"
      ],
      "execution_count": null,
      "outputs": [
        {
          "output_type": "execute_result",
          "data": {
            "text/plain": [
              "[<matplotlib.lines.Line2D at 0x7ff9b1611e80>]"
            ]
          },
          "metadata": {
            "tags": []
          },
          "execution_count": 91
        },
        {
          "output_type": "display_data",
          "data": {
            "image/png": "[encoded data removed]",
            "text/plain": [
              "<Figure size 432x288 with 1 Axes>"
            ]
          },
          "metadata": {
            "tags": []
          }
        }
      ]
    },
    {
      "cell_type": "code",
      "metadata": {
        "id": "uRjZHka1C7ag",
        "colab_type": "code",
        "colab": {
          "base_uri": "https://localhost:8080/",
          "height": 329
        },
        "outputId": "d4c825e4-c755-4dde-bdef-ca073c682024"
      },
      "source": [
        "#qual_lo = fuzz.trimf(x, [0, 0, 5])\n",
        "#qual_md = fuzz.trimf(x, [0, 5, 10])\n",
        "#qual_hi = fuzz.trimf(x, [5, 10, 10])\n",
        "C=(x**2)-3\n",
        "F=[]\n",
        "for i in range(1,4):\n",
        "  l=(i**2)-3\n",
        "  F.append(l)\n",
        "print(F)\n",
        "B = fuzz.trimf(x, [-2, 1, 6])\n",
        "fig3=plt.figure()\n",
        "axes3=fig3.add_axes([0.1,0.1,0.8,0.8])\n",
        "axes3.set_xlabel(\"e\")\n",
        "axes3.set_ylabel(\"mu(B(e))\")\n",
        "axes3.grid()\n",
        "axes3.plot(y,B)\n"
      ],
      "execution_count": null,
      "outputs": [
        {
          "output_type": "stream",
          "text": [
            "[-2, 1, 6]\n"
          ],
          "name": "stdout"
        },
        {
          "output_type": "execute_result",
          "data": {
            "text/plain": [
              "[<matplotlib.lines.Line2D at 0x7ff9b1543240>]"
            ]
          },
          "metadata": {
            "tags": []
          },
          "execution_count": 92
        },
        {
          "output_type": "display_data",
          "data": {
            "image/png": "[encoded data removed]",
            "text/plain": [
              "<Figure size 432x288 with 1 Axes>"
            ]
          },
          "metadata": {
            "tags": []
          }
        }
      ]
    }
  ]
}