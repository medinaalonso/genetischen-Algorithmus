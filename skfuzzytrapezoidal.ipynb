{
  "nbformat": 4,
  "nbformat_minor": 0,
  "metadata": {
    "colab": {
      "name": " skfuzzytrapezoidal.ipynb",
      "provenance": [],
      "collapsed_sections": [],
      "authorship_tag": "ABX9TyPqyeyWi2os9NIxIAjKS68c",
      "include_colab_link": true
    },
    "kernelspec": {
      "name": "python3",
      "display_name": "Python 3"
    }
  },
  "cells": [
    {
      "cell_type": "markdown",
      "metadata": {
        "id": "view-in-github",
        "colab_type": "text"
      },
      "source": [
        "<a href=\"https://colab.research.google.com/github/medinaalonso/genetischen-Algorithmus/blob/master/skfuzzytrapezoidal.ipynb\" target=\"_parent\"><img src=\"https://colab.research.google.com/assets/colab-badge.svg\" alt=\"Open In Colab\"/></a>"
      ]
    },
    {
      "cell_type": "code",
      "metadata": {
        "id": "MsvHNfHEDwna",
        "colab_type": "code",
        "colab": {
          "base_uri": "https://localhost:8080/",
          "height": 294
        },
        "outputId": "a851cfaf-3d10-4b7c-d230-ea79536a099c"
      },
      "source": [
        "!pip install scikit-fuzzy "
      ],
      "execution_count": null,
      "outputs": [
        {
          "output_type": "stream",
          "text": [
            "Collecting scikit-fuzzy\n",
            "\u001b[?25l  Downloading https://files.pythonhosted.org/packages/6c/f0/5eb5dbe0fd8dfe7d4651a8f4e591a196623a22b9e5339101e559695b4f6c/scikit-fuzzy-0.4.2.tar.gz (993kB)\n",
            "\u001b[K     |████████████████████████████████| 1.0MB 2.8MB/s \n",
            "\u001b[?25hRequirement already satisfied: numpy>=1.6.0 in /usr/local/lib/python3.6/dist-packages (from scikit-fuzzy) (1.17.5)\n",
            "Requirement already satisfied: scipy>=0.9.0 in /usr/local/lib/python3.6/dist-packages (from scikit-fuzzy) (1.4.1)\n",
            "Requirement already satisfied: networkx>=1.9.0 in /usr/local/lib/python3.6/dist-packages (from scikit-fuzzy) (2.4)\n",
            "Requirement already satisfied: decorator>=4.3.0 in /usr/local/lib/python3.6/dist-packages (from networkx>=1.9.0->scikit-fuzzy) (4.4.1)\n",
            "Building wheels for collected packages: scikit-fuzzy\n",
            "  Building wheel for scikit-fuzzy (setup.py) ... \u001b[?25l\u001b[?25hdone\n",
            "  Created wheel for scikit-fuzzy: filename=scikit_fuzzy-0.4.2-cp36-none-any.whl size=894070 sha256=ff690b9772f147daff5fb606153aa132b1058d4cbabb108485578e6f30a19f3f\n",
            "  Stored in directory: /root/.cache/pip/wheels/b9/4e/77/da79b16f64ef1738d95486e2731eea09d73e90a72465096600\n",
            "Successfully built scikit-fuzzy\n",
            "Installing collected packages: scikit-fuzzy\n",
            "Successfully installed scikit-fuzzy-0.4.2\n"
          ],
          "name": "stdout"
        }
      ]
    },
    {
      "cell_type": "code",
      "metadata": {
        "id": "t6cxnCI8-knZ",
        "colab_type": "code",
        "colab": {}
      },
      "source": [
        "import matplotlib.pyplot as plt\n",
        "%matplotlib inline\n",
        "import numpy as np\n",
        "import skfuzzy as fuzz\n"
      ],
      "execution_count": null,
      "outputs": []
    },
    {
      "cell_type": "code",
      "metadata": {
        "id": "5jrhz8EfBer8",
        "colab_type": "code",
        "colab": {}
      },
      "source": [
        "paso=0.01\n",
        "x = np.arange(-2,100,paso)\n",
        "F = x**2 -3"
      ],
      "execution_count": null,
      "outputs": []
    },
    {
      "cell_type": "code",
      "metadata": {
        "id": "sILiFRjtC9Fy",
        "colab_type": "code",
        "colab": {
          "base_uri": "https://localhost:8080/",
          "height": 326
        },
        "outputId": "1052700d-5370-4a1c-967e-73653850801c"
      },
      "source": [
        "#fig, (axes, axes2) = plt.subplots(nrows=2, figsize=(8, 9))\n",
        "fig=plt.figure()\n",
        "axes=fig.add_axes([0.1,0.1,0.8,0.8])\n",
        "axes.set_xlabel(\"e\")\n",
        "axes.set_ylabel(\"F(e))\")\n",
        "axes.set_title(\"y(x)=x**2-3\")\n",
        "axes.grid()\n",
        "axes.plot(x,F)"
      ],
      "execution_count": null,
      "outputs": [
        {
          "output_type": "execute_result",
          "data": {
            "text/plain": [
              "[<matplotlib.lines.Line2D at 0x7f1c84075eb8>]"
            ]
          },
          "metadata": {
            "tags": []
          },
          "execution_count": 5
        },
        {
          "output_type": "display_data",
          "data": {
            "image/png": "[encoded data removed]",
            "text/plain": [
              "<Figure size 432x288 with 1 Axes>"
            ]
          },
          "metadata": {
            "tags": []
          }
        }
      ]
    },
    {
      "cell_type": "markdown",
      "metadata": {
        "id": "GCJkSZd5Dg1_",
        "colab_type": "text"
      },
      "source": [
        "**Principio** **de** **extención**\n",
        "\n",
        "\n",
        "\n",
        "\n",
        "\n",
        "\n"
      ]
    },
    {
      "cell_type": "code",
      "metadata": {
        "id": "GB2FSnXaHyHW",
        "colab_type": "code",
        "colab": {
          "base_uri": "https://localhost:8080/",
          "height": 35
        },
        "outputId": "6544a785-10b7-461a-af83-59076fb1452f"
      },
      "source": [
        "A = fuzz.trapmf(x, [1, 2, 3, 4])\n",
        "y=np.arange(-3,997)\n",
        "y.shape"
      ],
      "execution_count": null,
      "outputs": [
        {
          "output_type": "execute_result",
          "data": {
            "text/plain": [
              "(1000,)"
            ]
          },
          "metadata": {
            "tags": []
          },
          "execution_count": 7
        }
      ]
    },
    {
      "cell_type": "code",
      "metadata": {
        "id": "JNinMUUqBaDu",
        "colab_type": "code",
        "colab": {
          "base_uri": "https://localhost:8080/",
          "height": 310
        },
        "outputId": "4954a00a-30eb-44fd-f88f-161798aabf1d"
      },
      "source": [
        "fig2=plt.figure()\n",
        "axes2=fig2.add_axes([0.1,0.1,0.8,0.8])\n",
        "axes2.set_xlabel(\"e\")\n",
        "axes2.set_ylabel(\"mu(A(e))\")\n",
        "axes2.grid()\n",
        "axes2.plot(x,A)\n",
        "\n",
        "#axes.legend()\n",
        "#axes2.legend()\n",
        "#plt.tight_layout()"
      ],
      "execution_count": null,
      "outputs": [
        {
          "output_type": "execute_result",
          "data": {
            "text/plain": [
              "[<matplotlib.lines.Line2D at 0x7f1c839bcd30>]"
            ]
          },
          "metadata": {
            "tags": []
          },
          "execution_count": 9
        },
        {
          "output_type": "display_data",
          "data": {
            "image/png": "[encoded data removed]",
            "text/plain": [
              "<Figure size 432x288 with 1 Axes>"
            ]
          },
          "metadata": {
            "tags": []
          }
        }
      ]
    },
    {
      "cell_type": "code",
      "metadata": {
        "id": "uRjZHka1C7ag",
        "colab_type": "code",
        "colab": {
          "base_uri": "https://localhost:8080/",
          "height": 329
        },
        "outputId": "e354b117-dc40-45c0-d329-0418ff5c8a71"
      },
      "source": [
        "#qual_lo = fuzz.trimf(x, [0, 0, 5])\n",
        "#qual_md = fuzz.trimf(x, [0, 5, 10])\n",
        "#qual_hi = fuzz.trimf(x, [5, 10, 10])\n",
        "C=(x**2)-3\n",
        "F=[]\n",
        "for i in range(1,5):\n",
        "  l=(i**2)-3\n",
        "  F.append(l)\n",
        "print(F)\n",
        "B = fuzz.trapmf(x, [-2, 1, 6, 13])\n",
        "fig3=plt.figure()\n",
        "axes3=fig3.add_axes([0.1,0.1,0.8,0.8])\n",
        "axes3.set_xlabel(\"e\")\n",
        "axes3.set_ylabel(\"mu(B(e))\")\n",
        "axes3.grid()\n",
        "axes3.plot(x,B)\n"
      ],
      "execution_count": null,
      "outputs": [
        {
          "output_type": "stream",
          "text": [
            "[-2, 1, 6, 13]\n"
          ],
          "name": "stdout"
        },
        {
          "output_type": "execute_result",
          "data": {
            "text/plain": [
              "[<matplotlib.lines.Line2D at 0x7f1c83938dd8>]"
            ]
          },
          "metadata": {
            "tags": []
          },
          "execution_count": 12
        },
        {
          "output_type": "display_data",
          "data": {
            "image/png": "[encoded data removed]",
            "text/plain": [
              "<Figure size 432x288 with 1 Axes>"
            ]
          },
          "metadata": {
            "tags": []
          }
        }
      ]
    }
  ]
}